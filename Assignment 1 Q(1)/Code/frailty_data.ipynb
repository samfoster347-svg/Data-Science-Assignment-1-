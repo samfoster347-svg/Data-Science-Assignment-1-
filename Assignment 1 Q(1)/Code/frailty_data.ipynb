{
  "nbformat": 4,
  "nbformat_minor": 0,
  "metadata": {
    "colab": {
      "provenance": []
    },
    "kernelspec": {
      "name": "python3",
      "display_name": "Python 3"
    },
    "language_info": {
      "name": "python"
    }
  },
  "cells": [
    {
      "cell_type": "code",
      "execution_count": 4,
      "metadata": {
        "id": "_F0eifkt72MR"
      },
      "outputs": [],
      "source": [
        "import pandas as pd\n",
        "import numpy as np\n",
        "frailty_data = pd.read_csv('frailty_data_raw.csv')"
      ]
    },
    {
      "cell_type": "code",
      "source": [
        "frailty_data['Height_m'] = frailty_data['Height'] * 0.0254\n",
        "frailty_data['Weight_kg'] = frailty_data['Weight'] * 0.45359237\n",
        "frailty_data['BMI'] = frailty_data['Weight_kg']/ (frailty_data['Height_m']**2)"
      ],
      "metadata": {
        "id": "TAeNoq0O9Odq"
      },
      "execution_count": 5,
      "outputs": []
    },
    {
      "cell_type": "code",
      "source": [
        "def AgeGroup(x) :\n",
        "   if x < 30: return \"<30\"\n",
        "   elif x <= 30 and x <= 45: return \"30-45\"\n",
        "   elif x <= 46 and x <= 60: return \"46-60\"\n",
        "   else: return \">60\"\n",
        "\n",
        "frailty_data['AgeGroup'] = frailty_data['Age'].apply(AgeGroup)"
      ],
      "metadata": {
        "id": "-Hw_7_xA_h5l"
      },
      "execution_count": 6,
      "outputs": []
    },
    {
      "cell_type": "code",
      "source": [
        "def FrailtyBinary(x):\n",
        "  if x == \"Y\": return 1\n",
        "  else: return 0\n",
        "\n",
        "frailty_data['Frailty_binary'] = frailty_data['Frailty'].apply(FrailtyBinary).astype(np.int8)"
      ],
      "metadata": {
        "id": "prrluLQ3pBzW"
      },
      "execution_count": 7,
      "outputs": []
    },
    {
      "cell_type": "code",
      "source": [
        "AgeGroupsEncode = pd.get_dummies(frailty_data['AgeGroup'],prefix='AgeGroup_')"
      ],
      "metadata": {
        "id": "_UDzS7i7sdSv"
      },
      "execution_count": 8,
      "outputs": []
    },
    {
      "cell_type": "code",
      "source": [
        "FrailtyDataNum = frailty_data.select_dtypes(include='number').copy()\n",
        "Summary = pd.DataFrame()\n",
        "Summary['Mean'] = FrailtyDataNum.mean().round(4)\n",
        "Summary['Median'] = FrailtyDataNum.median().round(4)\n",
        "Summary['std'] = FrailtyDataNum.std().round(4)\n",
        "print(Summary)\n",
        "GripFrailtyCorrelation = frailty_data['Grip strength'].corr(frailty_data['Frailty_binary']).round(4)\n",
        "print(GripFrailtyCorrelation)"
      ],
      "metadata": {
        "colab": {
          "base_uri": "https://localhost:8080/"
        },
        "id": "Ggdl_X1yuKQu",
        "outputId": "13cd921b-0099-42a3-cd34-edd69e1d5fdf"
      },
      "execution_count": 9,
      "outputs": [
        {
          "output_type": "stream",
          "name": "stdout",
          "text": [
            "                    Mean    Median      std\n",
            "Height           68.6000   68.4500   1.6707\n",
            "Weight          131.9000  136.0000  14.2318\n",
            "Age              32.5000   29.5000  12.8604\n",
            "Grip strength    26.0000   27.0000   4.5216\n",
            "Height_m          1.7424    1.7386   0.0424\n",
            "Weight_kg        59.8288   61.6886   6.4554\n",
            "BMI              19.6828   19.1827   1.7827\n",
            "Frailty_binary    0.4000    0.0000   0.5164\n",
            "-0.4759\n"
          ]
        }
      ]
    },
    {
      "cell_type": "code",
      "source": [
        "findings = \"\"\"\n",
        "\n",
        "Summary Statistics:\n",
        "\n",
        "                      Mean    Median      std\n",
        "Height             68.6000   68.4500   1.6707\n",
        "Weight            131.9000  136.0000  14.2318\n",
        "Age                32.5000   29.5000  12.8604\n",
        "Grip strength      26.0000   27.0000   4.5216\n",
        "Height_meters       1.7424    1.7386   0.0424\n",
        "Weight_kilograms   59.8288   61.6886   6.4554\n",
        "BMI                19.6828   19.1827   1.7827\n",
        "Frailty_binary      0.4000    0.0000   0.5164\n",
        "\n",
        "Grip Strength/Frailty Correlation =  -0.4759\n",
        "\"\"\"\n"
      ],
      "metadata": {
        "colab": {
          "base_uri": "https://localhost:8080/"
        },
        "id": "gx62QDxau8wF",
        "outputId": "220000dd-5c0b-4663-c183-fdc5db8ceebe"
      },
      "execution_count": 10,
      "outputs": [
        {
          "output_type": "stream",
          "name": "stdout",
          "text": [
            "\n",
            "\n",
            "Summary Statistics:\n",
            "\n",
            "                      Mean    Median      std\n",
            "Height             68.6000   68.4500   1.6707\n",
            "Weight            131.9000  136.0000  14.2318\n",
            "Age                32.5000   29.5000  12.8604\n",
            "Grip strength      26.0000   27.0000   4.5216\n",
            "Height_meters       1.7424    1.7386   0.0424\n",
            "Weight_kilograms   59.8288   61.6886   6.4554\n",
            "BMI                19.6828   19.1827   1.7827\n",
            "Frailty_binary      0.4000    0.0000   0.5164\n",
            "\n",
            "Grip Strength/Frailty Correlation =  -0.4759\n",
            "\n"
          ]
        }
      ]
    },
    {
      "cell_type": "code",
      "source": [
        "frailty_data_final = pd.concat([frailty_data, AgeGroupsEncode], axis=1)\n",
        "print(frailty_data_final)\n",
        "frailty_data_final.to_csv('FrailtyDataFinal.csv', index=False)"
      ],
      "metadata": {
        "colab": {
          "base_uri": "https://localhost:8080/"
        },
        "id": "IT-jPEQN5EwW",
        "outputId": "911bbe27-890d-4b4e-9a96-53602481a388"
      },
      "execution_count": 14,
      "outputs": [
        {
          "output_type": "stream",
          "name": "stdout",
          "text": [
            "   Height  Weight  Age  Grip strength Frailty  Height_m  Weight_kg        BMI  \\\n",
            "0    65.8     112   30             30       N   1.67132  50.802345  18.187146   \n",
            "1    71.5     136   19             31       N   1.81610  61.688562  18.703597   \n",
            "2    69.4     153   45             29       N   1.76276  69.399633  22.334220   \n",
            "3    68.2     142   22             28       Y   1.73228  64.410117  21.464358   \n",
            "4    67.8     144   29             24       Y   1.72212  65.317301  22.024264   \n",
            "5    68.7     123   50             26       N   1.74498  55.791862  18.322720   \n",
            "6    69.8     141   51             22       Y   1.77292  63.956524  20.347290   \n",
            "7    70.1     136   23             20       Y   1.78054  61.688562  19.458134   \n",
            "8    67.9     112   17             19       N   1.72466  50.802345  17.079564   \n",
            "9    66.8     120   39             31       N   1.69672  54.431084  18.907174   \n",
            "\n",
            "  AgeGroup  Frailty_binary  AgeGroup__30-45  AgeGroup__46-60  AgeGroup__<30  \\\n",
            "0    30-45               0             True            False          False   \n",
            "1      <30               0            False            False           True   \n",
            "2    46-60               0            False             True          False   \n",
            "3      <30               1            False            False           True   \n",
            "4      <30               1            False            False           True   \n",
            "5      >60               0            False            False          False   \n",
            "6      >60               1            False            False          False   \n",
            "7      <30               1            False            False           True   \n",
            "8      <30               0            False            False           True   \n",
            "9    46-60               0            False             True          False   \n",
            "\n",
            "   AgeGroup__>60  \n",
            "0          False  \n",
            "1          False  \n",
            "2          False  \n",
            "3          False  \n",
            "4          False  \n",
            "5           True  \n",
            "6           True  \n",
            "7          False  \n",
            "8          False  \n",
            "9          False  \n"
          ]
        }
      ]
    }
  ]
}
